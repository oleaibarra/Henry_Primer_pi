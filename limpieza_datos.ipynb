{
 "cells": [
  {
   "cell_type": "code",
   "execution_count": 2,
   "id": "b7ad9b4a-194a-4725-81a7-f3b42c63f7ce",
   "metadata": {},
   "outputs": [],
   "source": [
    "import pandas as pd\n",
    "import numpy as np"
   ]
  },
  {
   "cell_type": "markdown",
   "id": "4579eb3e-1d51-49a8-bbe3-d061ff19a704",
   "metadata": {},
   "source": [
    "## Tablas de ratings"
   ]
  },
  {
   "cell_type": "code",
   "execution_count": 3,
   "id": "82dd2ba2-fc7a-44a8-a73c-5e0164a9b227",
   "metadata": {},
   "outputs": [],
   "source": [
    "df1 = pd.read_csv('1.csv')\n",
    "df2 = pd.read_csv('2.csv')\n",
    "df3 = pd.read_csv('3.csv')\n",
    "df4 = pd.read_csv('4.csv')\n",
    "df5 = pd.read_csv('5.csv')\n",
    "df6 = pd.read_csv('6.csv')\n",
    "df7 = pd.read_csv('7.csv')\n",
    "df8 = pd.read_csv('8.csv')"
   ]
  },
  {
   "cell_type": "markdown",
   "id": "9fa189f0-dc21-42e2-a9b4-567a8465bf42",
   "metadata": {},
   "source": [
    "##### número de filas por data frame y total que debería tener una vez concatenado"
   ]
  },
  {
   "cell_type": "code",
   "execution_count": 4,
   "id": "4e872829-2aa4-48b9-bfdb-64c3afd36a57",
   "metadata": {},
   "outputs": [
    {
     "name": "stdout",
     "output_type": "stream",
     "text": [
      "df1 shape: (1500000, 4)\n",
      "df2 shape: (1500000, 4)\n",
      "df3 shape: (1500000, 4)\n",
      "df4 shape: (1500000, 4)\n",
      "df5 shape: (1500000, 4)\n",
      "df6 shape: (1500000, 4)\n",
      "df7 shape: (524289, 4)\n",
      "df8 shape: (1500000, 4)\n",
      "Número total de filas: 11024289\n"
     ]
    }
   ],
   "source": [
    "num_filas = []\n",
    "\n",
    "for i in range(1, 9):\n",
    "    df_name = f\"df{i}\"\n",
    "    df = locals()[df_name]  # get the data frame by name\n",
    "    print(f\"{df_name} shape: {df.shape}\")\n",
    "    x = df.shape\n",
    "    num_filas.append(x[0])\n",
    "sum_total_filas = sum(num_filas)\n",
    "print('Número total de filas:', sum_total_filas)"
   ]
  },
  {
   "cell_type": "markdown",
   "id": "2a9096ca-8388-454d-ad70-fecf09d9978e",
   "metadata": {},
   "source": [
    "##### Número de valores faltantes por data frame"
   ]
  },
  {
   "cell_type": "code",
   "execution_count": 5,
   "id": "6e15c326-fc55-4f8b-8b64-7c635c65b45d",
   "metadata": {},
   "outputs": [
    {
     "data": {
      "text/plain": [
       "[0, 0, 0, 0, 0, 0, 0, 0]"
      ]
     },
     "execution_count": 5,
     "metadata": {},
     "output_type": "execute_result"
    }
   ],
   "source": [
    "df_isna = []\n",
    "for d in (df1, df2, df3, df4, df5, df6, df7, df8):\n",
    "    df_isna.append(d.isna().sum().sum())\n",
    "df_isna"
   ]
  },
  {
   "cell_type": "markdown",
   "id": "733bc4a5-ac49-422b-85a3-8602949fcea7",
   "metadata": {},
   "source": [
    "##### Antes de concatenar los df's de ratings verificamos:\n",
    "##### que tengan nombres de columnas iguales"
   ]
  },
  {
   "cell_type": "code",
   "execution_count": 6,
   "id": "bd70a0f3-2938-47b6-911e-913b24bda93d",
   "metadata": {},
   "outputs": [
    {
     "data": {
      "text/plain": [
       "[True, True, True, True, True, True, True]"
      ]
     },
     "execution_count": 6,
     "metadata": {},
     "output_type": "execute_result"
    }
   ],
   "source": [
    "columnas = []\n",
    "nombre_igual = []\n",
    "for d in (df1, df2, df3, df4, df5, df6, df7, df8):\n",
    "    columnas.append(list(d.columns))\n",
    "for c in range(7):\n",
    "    nombre_igual.append(columnas[c] == columnas[c+1])\n",
    "nombre_igual"
   ]
  },
  {
   "cell_type": "markdown",
   "id": "8abeaf3f-9e35-43af-8d4a-24e54be05745",
   "metadata": {},
   "source": [
    "##### que tengan el mismo dtype en cada columna"
   ]
  },
  {
   "cell_type": "code",
   "execution_count": 7,
   "id": "34eabafa-3681-4106-992d-6bdaf53091a5",
   "metadata": {},
   "outputs": [
    {
     "data": {
      "text/html": [
       "<div>\n",
       "<style scoped>\n",
       "    .dataframe tbody tr th:only-of-type {\n",
       "        vertical-align: middle;\n",
       "    }\n",
       "\n",
       "    .dataframe tbody tr th {\n",
       "        vertical-align: top;\n",
       "    }\n",
       "\n",
       "    .dataframe thead th {\n",
       "        text-align: right;\n",
       "    }\n",
       "</style>\n",
       "<table border=\"1\" class=\"dataframe\">\n",
       "  <thead>\n",
       "    <tr style=\"text-align: right;\">\n",
       "      <th></th>\n",
       "      <th>userId</th>\n",
       "      <th>rating</th>\n",
       "      <th>timestamp</th>\n",
       "      <th>movieId</th>\n",
       "    </tr>\n",
       "  </thead>\n",
       "  <tbody>\n",
       "    <tr>\n",
       "      <th>df1</th>\n",
       "      <td>int64</td>\n",
       "      <td>float64</td>\n",
       "      <td>int64</td>\n",
       "      <td>object</td>\n",
       "    </tr>\n",
       "    <tr>\n",
       "      <th>df2</th>\n",
       "      <td>int64</td>\n",
       "      <td>float64</td>\n",
       "      <td>int64</td>\n",
       "      <td>object</td>\n",
       "    </tr>\n",
       "    <tr>\n",
       "      <th>df3</th>\n",
       "      <td>int64</td>\n",
       "      <td>float64</td>\n",
       "      <td>int64</td>\n",
       "      <td>object</td>\n",
       "    </tr>\n",
       "    <tr>\n",
       "      <th>df4</th>\n",
       "      <td>int64</td>\n",
       "      <td>float64</td>\n",
       "      <td>int64</td>\n",
       "      <td>object</td>\n",
       "    </tr>\n",
       "    <tr>\n",
       "      <th>df5</th>\n",
       "      <td>int64</td>\n",
       "      <td>float64</td>\n",
       "      <td>int64</td>\n",
       "      <td>object</td>\n",
       "    </tr>\n",
       "    <tr>\n",
       "      <th>df6</th>\n",
       "      <td>int64</td>\n",
       "      <td>float64</td>\n",
       "      <td>int64</td>\n",
       "      <td>object</td>\n",
       "    </tr>\n",
       "    <tr>\n",
       "      <th>df7</th>\n",
       "      <td>int64</td>\n",
       "      <td>float64</td>\n",
       "      <td>int64</td>\n",
       "      <td>object</td>\n",
       "    </tr>\n",
       "    <tr>\n",
       "      <th>df8</th>\n",
       "      <td>int64</td>\n",
       "      <td>float64</td>\n",
       "      <td>int64</td>\n",
       "      <td>object</td>\n",
       "    </tr>\n",
       "  </tbody>\n",
       "</table>\n",
       "</div>"
      ],
      "text/plain": [
       "    userId   rating timestamp movieId\n",
       "df1  int64  float64     int64  object\n",
       "df2  int64  float64     int64  object\n",
       "df3  int64  float64     int64  object\n",
       "df4  int64  float64     int64  object\n",
       "df5  int64  float64     int64  object\n",
       "df6  int64  float64     int64  object\n",
       "df7  int64  float64     int64  object\n",
       "df8  int64  float64     int64  object"
      ]
     },
     "execution_count": 7,
     "metadata": {},
     "output_type": "execute_result"
    }
   ],
   "source": [
    "columnas1 = list(df1.columns)\n",
    "x = {}\n",
    "y = {}\n",
    "n = 0\n",
    "for d in (df1, df2, df3, df4, df5, df6, df7, df8):\n",
    "    n+=1\n",
    "    m = str(n)\n",
    "    x[m]=[]\n",
    "    y[m] = 'df' + m\n",
    "    for col in columnas1:\n",
    "        x[m].append(d[col].dtype)\n",
    "        \n",
    "dataframes_dtypes = pd.DataFrame.from_dict(x, orient='index')\n",
    "dataframes_dtypes.columns = columnas1\n",
    "dataframes_dtypes.rename(index=y, inplace=True)\n",
    "dataframes_dtypes"
   ]
  },
  {
   "cell_type": "markdown",
   "id": "bea3a2dd-a9d0-4bc8-9885-ffd2f40d6257",
   "metadata": {},
   "source": [
    "##### Concatenamos df's en reviews y revisamos que el nuevo df tenga número de filas correctas"
   ]
  },
  {
   "cell_type": "code",
   "execution_count": 8,
   "id": "723ca9fe-5b95-4fe5-a985-6fcae294308e",
   "metadata": {},
   "outputs": [
    {
     "name": "stdout",
     "output_type": "stream",
     "text": [
      "Número total de filas: 11024289\n"
     ]
    }
   ],
   "source": [
    "reviews = pd.concat([df1, df2, df3, df4, df5, df6, df7, df8])\n",
    "reviews_shape = reviews.shape\n",
    "if sum_total_filas == reviews_shape[0]:\n",
    "    print('Número total de filas:', sum_total_filas)\n",
    "else: \n",
    "    print('El número total de filas no concuerda con la suma de las filas de cada dfs')"
   ]
  },
  {
   "cell_type": "code",
   "execution_count": 9,
   "id": "f09f9021-f34e-48ed-9057-6fdc02f74503",
   "metadata": {},
   "outputs": [
    {
     "name": "stdout",
     "output_type": "stream",
     "text": [
      "<class 'pandas.core.frame.DataFrame'>\n",
      "Int64Index: 11024289 entries, 0 to 1499999\n",
      "Data columns (total 4 columns):\n",
      " #   Column     Dtype  \n",
      "---  ------     -----  \n",
      " 0   userId     int64  \n",
      " 1   rating     float64\n",
      " 2   timestamp  int64  \n",
      " 3   movieId    object \n",
      "dtypes: float64(1), int64(2), object(1)\n",
      "memory usage: 420.5+ MB\n"
     ]
    }
   ],
   "source": [
    "reviews.info()"
   ]
  },
  {
   "cell_type": "markdown",
   "id": "a9c030e2-081c-41a7-87be-fe9384686598",
   "metadata": {},
   "source": [
    "#### Revisando el campo 'movieId':\n",
    "Primero usamos la función extract() de Pandas y una expresión regular para extraer solo las letras de cada elemento de la columna \"movieId\". La expresión regular [A-Za-z]+ coincide con una o más letras mayúsculas o minúsculas consecutivas en cada cadena. El parámetro expand=False indica que queremos devolver solo una columna en lugar de un DataFrame con una columna por cada grupo de la expresión regular.\n",
    "Luego, usamos el método unique() en la columna de letras para obtener los valores únicos. Estos valores únicos son las letras de los elementos en la columna \"movieId\", ignorando los números."
   ]
  },
  {
   "cell_type": "code",
   "execution_count": 10,
   "id": "9729c87d-ad1b-4f44-8074-b414f1c444d0",
   "metadata": {},
   "outputs": [
    {
     "data": {
      "text/plain": [
       "array(['as', 'ns', 'hs', 'ds'], dtype=object)"
      ]
     },
     "execution_count": 10,
     "metadata": {},
     "output_type": "execute_result"
    }
   ],
   "source": [
    "import re\n",
    "\n",
    "letras = reviews[\"movieId\"].str.extract(r'([A-Za-z]+)', expand=False)\n",
    "unicos_letras = letras.unique()\n",
    "unicos_letras"
   ]
  },
  {
   "cell_type": "markdown",
   "id": "2363378e-8bc3-4151-ab58-fb2b2463bea9",
   "metadata": {},
   "source": [
    "##### Buscamos filas duplicadas"
   ]
  },
  {
   "cell_type": "code",
   "execution_count": 11,
   "id": "c88df602-66ee-4457-912a-a61b9ecbdde7",
   "metadata": {},
   "outputs": [
    {
     "data": {
      "text/plain": [
       "'\\nduplicados = reviews.duplicated([\\'userId\\', \\'rating\\', \\'timestamp\\', \\'movieId\\'])\\nnum_duplicados = sum(duplicados)\\nprint(\\'Número de filas duplicadas en data frame \"reviews\":\\', num_duplicados)\\n'"
      ]
     },
     "execution_count": 11,
     "metadata": {},
     "output_type": "execute_result"
    }
   ],
   "source": [
    "\"\"\"\n",
    "duplicados = reviews.duplicated(['userId', 'rating', 'timestamp', 'movieId'])\n",
    "num_duplicados = sum(duplicados)\n",
    "print('Número de filas duplicadas en data frame \"reviews\":', num_duplicados)\n",
    "\"\"\""
   ]
  },
  {
   "cell_type": "markdown",
   "id": "5423474d-ada1-4ec8-8cb8-7e851bc8da97",
   "metadata": {},
   "source": [
    "##### Quitamos filas duplicadas"
   ]
  },
  {
   "cell_type": "code",
   "execution_count": 12,
   "id": "e14b09f4-8cf2-420b-a5a5-c3697938d2a9",
   "metadata": {},
   "outputs": [
    {
     "data": {
      "text/plain": [
       "\"\\nreviews = reviews.drop_duplicates()\\nreviews_new_shape = reviews.shape\\nif (sum_total_filas - num_duplicados) == (reviews_new_shape[0]):\\n    print('Operación exitosa')\\nelif (sum_total_filas - num_duplicados) < (reviews_new_shape[0]):\\n    print('Se quitaron filas de menos')\\nelse:\\n    print('Se quitaron fila de más')\\n\""
      ]
     },
     "execution_count": 12,
     "metadata": {},
     "output_type": "execute_result"
    }
   ],
   "source": [
    "\"\"\"\n",
    "reviews = reviews.drop_duplicates()\n",
    "reviews_new_shape = reviews.shape\n",
    "if (sum_total_filas - num_duplicados) == (reviews_new_shape[0]):\n",
    "    print('Operación exitosa')\n",
    "elif (sum_total_filas - num_duplicados) < (reviews_new_shape[0]):\n",
    "    print('Se quitaron filas de menos')\n",
    "else:\n",
    "    print('Se quitaron fila de más')\n",
    "\"\"\""
   ]
  },
  {
   "cell_type": "markdown",
   "id": "7efa2de1-22df-464b-9191-c0eb49968564",
   "metadata": {},
   "source": [
    "#### Convirtiendo campo timestamp a datetime y formato AAAA-mm-dd"
   ]
  },
  {
   "cell_type": "code",
   "execution_count": 13,
   "id": "28f5ae50-06bc-448f-9125-cf7d1c8ced60",
   "metadata": {},
   "outputs": [],
   "source": [
    "# apply strip() to all columns\n",
    "df = df.applymap(lambda x: x.strip() if isinstance(x, str) else x)\n",
    "df['timestamp'] = pd.to_datetime(df['timestamp'], unit='s')\n",
    "df['timestamp'] = df['timestamp'].dt.strftime('%Y-%m-%d')"
   ]
  },
  {
   "cell_type": "markdown",
   "id": "817cb3d3-7715-437c-982d-252bd8cba56b",
   "metadata": {},
   "source": [
    "#### Agrupando por movieId con su media de rating"
   ]
  },
  {
   "cell_type": "code",
   "execution_count": 14,
   "id": "278a83e4-83dd-4fd6-a16f-80f2ab80a13d",
   "metadata": {},
   "outputs": [],
   "source": [
    "reviews = df.groupby('movieId')['rating'].mean()"
   ]
  },
  {
   "cell_type": "markdown",
   "id": "241a86fd-222b-49af-b940-dd4ecf369bb9",
   "metadata": {},
   "source": [
    "#### Exportando a csv "
   ]
  },
  {
   "cell_type": "code",
   "execution_count": 15,
   "id": "2f4aad3f-1849-4622-a6e2-50a02aed2b39",
   "metadata": {},
   "outputs": [],
   "source": [
    "#reviews.to_csv('reviews_mean.csv', index=True)"
   ]
  },
  {
   "cell_type": "markdown",
   "id": "fefef642-1bb9-4ec1-b609-118b710b28f7",
   "metadata": {},
   "source": [
    "## Tablas de plataformas"
   ]
  },
  {
   "cell_type": "markdown",
   "id": "783452a0-42d3-45e6-8cd0-11eaf950dd30",
   "metadata": {},
   "source": [
    "#### Cargamos archivos csv a data frames"
   ]
  },
  {
   "cell_type": "code",
   "execution_count": 16,
   "id": "bff350f3-5262-4414-bf85-78df3d0fcb98",
   "metadata": {},
   "outputs": [],
   "source": [
    "amazon = pd.read_csv('amazon_prime_titles.csv')\n",
    "netflix = pd.read_csv('netflix_titles.csv')\n",
    "hulu = pd.read_csv('hulu_titles.csv')\n",
    "disney = pd.read_csv('disney_plus_titles.csv')"
   ]
  },
  {
   "cell_type": "markdown",
   "id": "5a1f0891-9ca5-4df0-8fe0-a8d2e01cfe98",
   "metadata": {},
   "source": [
    "#### Valores faltantes por tabla de plataforma"
   ]
  },
  {
   "cell_type": "code",
   "execution_count": 17,
   "id": "5feff2aa-d099-476c-b598-3b75ae9d5bcb",
   "metadata": {},
   "outputs": [
    {
     "name": "stdout",
     "output_type": "stream",
     "text": [
      "22161\n",
      "4307\n",
      "8627\n",
      "888\n"
     ]
    }
   ],
   "source": [
    "for plat in (amazon, netflix, hulu, disney):\n",
    "    print(plat.isna().sum().sum())"
   ]
  },
  {
   "cell_type": "markdown",
   "id": "290dd6fd-1ebb-4769-921e-1f4a6b02552d",
   "metadata": {},
   "source": [
    "#### Nombres de las columnas de los data frames de las plataformas"
   ]
  },
  {
   "cell_type": "code",
   "execution_count": 18,
   "id": "8934a1b4-1012-4f34-b154-969e9236bb56",
   "metadata": {},
   "outputs": [
    {
     "name": "stdout",
     "output_type": "stream",
     "text": [
      "Todos los data frames tienes los mismos nombres de columnas\n"
     ]
    }
   ],
   "source": [
    "if (amazon.columns.equals(disney.columns) and\n",
    "    amazon.columns.equals(hulu.columns) and\n",
    "    amazon.columns.equals(netflix.columns)):\n",
    "    print(\"Todos los data frames tienes los mismos nombres de columnas\")\n",
    "else:\n",
    "    print(\"No tienen todos los mismos nombres de columnas\")"
   ]
  },
  {
   "cell_type": "markdown",
   "id": "119af512-cda1-4e8a-9764-f8ae706a9888",
   "metadata": {},
   "source": [
    "#### Data Types por columnas en los data frames "
   ]
  },
  {
   "cell_type": "code",
   "execution_count": 19,
   "id": "b28252e9-2c20-4722-906e-07723b1b9971",
   "metadata": {},
   "outputs": [
    {
     "data": {
      "text/html": [
       "<div>\n",
       "<style scoped>\n",
       "    .dataframe tbody tr th:only-of-type {\n",
       "        vertical-align: middle;\n",
       "    }\n",
       "\n",
       "    .dataframe tbody tr th {\n",
       "        vertical-align: top;\n",
       "    }\n",
       "\n",
       "    .dataframe thead th {\n",
       "        text-align: right;\n",
       "    }\n",
       "</style>\n",
       "<table border=\"1\" class=\"dataframe\">\n",
       "  <thead>\n",
       "    <tr style=\"text-align: right;\">\n",
       "      <th></th>\n",
       "      <th>show_id</th>\n",
       "      <th>type</th>\n",
       "      <th>title</th>\n",
       "      <th>director</th>\n",
       "      <th>cast</th>\n",
       "      <th>country</th>\n",
       "      <th>date_added</th>\n",
       "      <th>release_year</th>\n",
       "      <th>rating</th>\n",
       "      <th>duration</th>\n",
       "      <th>listed_in</th>\n",
       "      <th>description</th>\n",
       "    </tr>\n",
       "  </thead>\n",
       "  <tbody>\n",
       "    <tr>\n",
       "      <th>amazon</th>\n",
       "      <td>object</td>\n",
       "      <td>object</td>\n",
       "      <td>object</td>\n",
       "      <td>object</td>\n",
       "      <td>object</td>\n",
       "      <td>object</td>\n",
       "      <td>object</td>\n",
       "      <td>int64</td>\n",
       "      <td>object</td>\n",
       "      <td>object</td>\n",
       "      <td>object</td>\n",
       "      <td>object</td>\n",
       "    </tr>\n",
       "    <tr>\n",
       "      <th>disney</th>\n",
       "      <td>object</td>\n",
       "      <td>object</td>\n",
       "      <td>object</td>\n",
       "      <td>object</td>\n",
       "      <td>object</td>\n",
       "      <td>object</td>\n",
       "      <td>object</td>\n",
       "      <td>int64</td>\n",
       "      <td>object</td>\n",
       "      <td>object</td>\n",
       "      <td>object</td>\n",
       "      <td>object</td>\n",
       "    </tr>\n",
       "    <tr>\n",
       "      <th>hulu</th>\n",
       "      <td>object</td>\n",
       "      <td>object</td>\n",
       "      <td>object</td>\n",
       "      <td>object</td>\n",
       "      <td>float64</td>\n",
       "      <td>object</td>\n",
       "      <td>object</td>\n",
       "      <td>int64</td>\n",
       "      <td>object</td>\n",
       "      <td>object</td>\n",
       "      <td>object</td>\n",
       "      <td>object</td>\n",
       "    </tr>\n",
       "    <tr>\n",
       "      <th>neflix</th>\n",
       "      <td>object</td>\n",
       "      <td>object</td>\n",
       "      <td>object</td>\n",
       "      <td>object</td>\n",
       "      <td>object</td>\n",
       "      <td>object</td>\n",
       "      <td>object</td>\n",
       "      <td>int64</td>\n",
       "      <td>object</td>\n",
       "      <td>object</td>\n",
       "      <td>object</td>\n",
       "      <td>object</td>\n",
       "    </tr>\n",
       "  </tbody>\n",
       "</table>\n",
       "</div>"
      ],
      "text/plain": [
       "       show_id    type   title director     cast country date_added  \\\n",
       "amazon  object  object  object   object   object  object     object   \n",
       "disney  object  object  object   object   object  object     object   \n",
       "hulu    object  object  object   object  float64  object     object   \n",
       "neflix  object  object  object   object   object  object     object   \n",
       "\n",
       "       release_year  rating duration listed_in description  \n",
       "amazon        int64  object   object    object      object  \n",
       "disney        int64  object   object    object      object  \n",
       "hulu          int64  object   object    object      object  \n",
       "neflix        int64  object   object    object      object  "
      ]
     },
     "execution_count": 19,
     "metadata": {},
     "output_type": "execute_result"
    }
   ],
   "source": [
    "columnas1 = list(amazon.columns)\n",
    "x = {}\n",
    "y = {'1':'amazon', '2':'disney', '3':'hulu', '4':'neflix'}\n",
    "n = 0\n",
    "for d in (amazon, disney, hulu, netflix):\n",
    "    n+=1\n",
    "    m = str(n)\n",
    "    x[m]=[]\n",
    "   \n",
    "    for col in columnas1:\n",
    "        x[m].append(d[col].dtype)\n",
    "        \n",
    "plataforms_dtypes = pd.DataFrame.from_dict(x, orient='index')\n",
    "plataforms_dtypes.columns = columnas1\n",
    "plataforms_dtypes.rename(index=y, inplace=True)\n",
    "plataforms_dtypes"
   ]
  },
  {
   "cell_type": "markdown",
   "id": "1c92af46-8b56-4b59-8653-9abebbf58c82",
   "metadata": {},
   "source": [
    "##### Cambiando hulu['cast'] a dtype object"
   ]
  },
  {
   "cell_type": "code",
   "execution_count": 20,
   "id": "7817f1c8-6eed-493e-8ead-036ee6104a73",
   "metadata": {},
   "outputs": [],
   "source": [
    "hulu['cast'] = hulu['cast'].astype('object')"
   ]
  },
  {
   "cell_type": "markdown",
   "id": "e337e83d-dd34-4ff3-9bd5-904e057c0c49",
   "metadata": {},
   "source": [
    "#### Datos faltantes por columna y data frame"
   ]
  },
  {
   "cell_type": "markdown",
   "id": "f36ad9d9-8e15-42a6-9ce1-b7558b316dc0",
   "metadata": {},
   "source": [
    "### Hacemos compatible el show_id de las tablas de plataformas con el de las tablas de ratings\n",
    "###### Generar campo id: Cada id se compondrá de la primera letra del nombre de la plataforma, seguido del show_id ya presente en los datasets (ejemplo para títulos de Amazon = as123)"
   ]
  },
  {
   "cell_type": "code",
   "execution_count": 21,
   "id": "25c019f8-4052-475e-8220-c6f5f9bd4324",
   "metadata": {},
   "outputs": [],
   "source": [
    "disney['show_id'] = disney['show_id'].str.replace('s', 'ds')\n",
    "amazon['show_id'] = amazon['show_id'].str.replace('s', 'as')\n",
    "hulu['show_id'] = hulu['show_id'].str.replace('s', 'hs')\n",
    "netflix['show_id'] = netflix['show_id'].str.replace('s', 'ns')"
   ]
  },
  {
   "cell_type": "markdown",
   "id": "8cda92c9-58b0-4848-87c3-136fb7f06dfc",
   "metadata": {},
   "source": [
    "### Concatenamos los data frames de las plataformas en data frame 'plata'"
   ]
  },
  {
   "cell_type": "markdown",
   "id": "8daea037-7ea0-495e-969c-926cb604e4b5",
   "metadata": {},
   "source": [
    "#### pd.concat() tiene por default el parámetro join=outer. \n",
    "El outer join mantendrá todas las filas de cada uno de los data frames y llenará los campos sin valores con NaN."
   ]
  },
  {
   "cell_type": "code",
   "execution_count": 22,
   "id": "f28e6236-6afe-4a6d-ac5b-b51090e922c5",
   "metadata": {},
   "outputs": [],
   "source": [
    "plata = pd.concat([amazon, disney, hulu, netflix])"
   ]
  },
  {
   "cell_type": "markdown",
   "id": "b685d022-7fd7-45a8-8343-c124738f983b",
   "metadata": {},
   "source": [
    "##### Cambiamos el nombre de la columna 'rating' (que causa confusión, porque en realidad se trata de la clasificación de la película) por 'classification'"
   ]
  },
  {
   "cell_type": "code",
   "execution_count": 23,
   "id": "1b44e407-0490-48b1-95ff-3ed6596d7766",
   "metadata": {},
   "outputs": [],
   "source": [
    "plata.rename(columns={'rating': 'classification'}, inplace=True)"
   ]
  },
  {
   "cell_type": "markdown",
   "id": "b5842364-161e-4735-8c19-c8870862fef3",
   "metadata": {},
   "source": [
    "### Reemplazondo Nan en 'classification'('rating')\n",
    "###### Los valores nulos del campo rating deberán reemplazarse por el string “G” (corresponde al maturity rating: “general for all audiences”"
   ]
  },
  {
   "cell_type": "code",
   "execution_count": 24,
   "id": "84329896-aa42-445e-96bd-bb65678a5783",
   "metadata": {},
   "outputs": [],
   "source": [
    "# Reemplazamos los valores NaN con 'G'\n",
    "plata['classification'] = plata['classification'].fillna('G')"
   ]
  },
  {
   "cell_type": "code",
   "execution_count": 25,
   "id": "d5960fb4-54a3-450a-8cb6-f801e5319b90",
   "metadata": {},
   "outputs": [],
   "source": [
    "classification_unicas = plata['classification'].unique()"
   ]
  },
  {
   "cell_type": "markdown",
   "id": "63472a8e-66fd-40ac-93a6-982f3216bc19",
   "metadata": {},
   "source": [
    "##### La columna 'classification' (antes 'rating') contiene en algunas filas valores de la columna 'duration' por lo que estos se extraen y se reemplazan por 'G'. Si en la misma fila se encuentra valor en la columna 'duration' estos últimos se extraen e insertan en una nueva columna 'duration_type' y el campo 'duration' se insertan los valores extraídos de 'classification'."
   ]
  },
  {
   "cell_type": "code",
   "execution_count": 26,
   "id": "693f6053-481b-4988-889f-a8573768ec38",
   "metadata": {},
   "outputs": [],
   "source": [
    "plata = plata.reset_index(drop=True)\n",
    "# create columns for extracted data\n",
    "plata['temp_classification'] = ''\n",
    "plata['temp_duration'] = ''\n",
    "\n",
    "# extract data from classification column\n",
    "plata.loc[plata['classification'].str.contains('min|Season'), 'temp_classification'] = plata['classification']\n",
    "plata.loc[plata['classification'].str.contains('min|Season'), 'classification'] = 'NOT RATED'\n",
    "\n",
    "# extract duration data from corresponding rows\n",
    "plata.loc[plata['temp_classification'] != '', 'temp_duration'] = plata['duration']\n",
    "plata.loc[(plata['temp_classification'] != '') & (plata['duration'] != ''), 'duration'] = plata['temp_classification']\n",
    "\n",
    "# drop temp_classification column if all values are empty\n",
    "if plata['temp_classification'].isnull().all():\n",
    "    plata.drop('temp_classification', axis=1, inplace=True)\n"
   ]
  },
  {
   "cell_type": "code",
   "execution_count": 27,
   "id": "6b32a1c1-ef2d-4f67-9510-93ba505987c7",
   "metadata": {},
   "outputs": [],
   "source": [
    "plata.drop(['temp_classification', 'temp_duration'], axis=1, inplace=True)"
   ]
  },
  {
   "cell_type": "markdown",
   "id": "d9ee1902-b6fe-4706-8df8-02b09303c252",
   "metadata": {},
   "source": [
    "#### Formato de fechas\n",
    "##### De haber fechas, deberán tener el formato AAAA-mm-dd"
   ]
  },
  {
   "cell_type": "code",
   "execution_count": 28,
   "id": "05a0969e-3e6e-4dbc-90c4-064b0785dee1",
   "metadata": {},
   "outputs": [],
   "source": [
    "plata['date_added'] = pd.to_datetime(plata['date_added'].str.strip(), format='%B %d, %Y')\n",
    "plata['date_added'] = plata['date_added'].dt.strftime('%Y-%m-%d')"
   ]
  },
  {
   "cell_type": "markdown",
   "id": "f24287a9-e445-4ed4-9d5b-f2bbd5d68b53",
   "metadata": {},
   "source": [
    "### Conversión del campo 'duration' a dos columnas: 'duration_int', 'duration_type'"
   ]
  },
  {
   "cell_type": "code",
   "execution_count": 29,
   "id": "4451e096-0ea0-40a4-8234-727fa0004f50",
   "metadata": {},
   "outputs": [],
   "source": [
    "# Separamos los números y las letras en columnas diferentes\n",
    "plata[['duration_int', 'duration_type']] = plata['duration'].str.extract(r'(\\d+)\\s*(\\D+)', expand=True)\n",
    "\n",
    "# Insertamos las nuevas columnas justo después de la columna \"duration\"\n",
    "duration_idx = plata.columns.get_loc('duration')\n",
    "plata['dur_int'] = ''\n",
    "plata['dur_type'] = ''\n",
    "plata.insert(duration_idx + 1, 'duration_int', plata.pop('duration_int'))\n",
    "plata.insert(duration_idx + 2, 'duration_type', plata.pop('duration_type'))\n",
    "plata.drop(['duration'], axis=1, inplace=True)"
   ]
  },
  {
   "cell_type": "code",
   "execution_count": 30,
   "id": "9bf45664-c676-44e5-ab1e-948d97fbb941",
   "metadata": {},
   "outputs": [],
   "source": [
    "plata.drop(['dur_int', 'dur_type'], axis=1, inplace=True)"
   ]
  },
  {
   "cell_type": "markdown",
   "id": "636ea631-fa75-49b2-8d22-1141175e86b6",
   "metadata": {},
   "source": [
    "#### Los campos de texto deberán estar en minúsculas, sin excepciones"
   ]
  },
  {
   "cell_type": "code",
   "execution_count": 31,
   "id": "687d67d2-9e1a-4c32-952f-d1b5d5f7c45b",
   "metadata": {},
   "outputs": [],
   "source": [
    "plata[['type', 'title', 'director', 'cast', 'country', 'classification','duration_type','listed_in', 'description']] = plata[['type', 'title', 'director', 'cast', 'country', 'classification','duration_type','listed_in', 'description']].apply(lambda x: x.str.lower())"
   ]
  },
  {
   "cell_type": "code",
   "execution_count": 32,
   "id": "3c5b956c-853f-4b72-859c-f2fd29c691a7",
   "metadata": {},
   "outputs": [],
   "source": [
    "# apply strip() to all columns\n",
    "plata = plata.applymap(lambda x: x.strip() if isinstance(x, str) else x)"
   ]
  },
  {
   "cell_type": "code",
   "execution_count": 33,
   "id": "d3ce7c58-9582-4e1b-bc10-2ac9ef810151",
   "metadata": {},
   "outputs": [],
   "source": [
    "plata['duration_type'] = plata['duration_type'].str.replace('seasons', 'season')"
   ]
  },
  {
   "cell_type": "code",
   "execution_count": 34,
   "id": "5c87b0ca-d0df-4504-b851-7b0adb847ee5",
   "metadata": {},
   "outputs": [],
   "source": [
    "#plata.to_csv('plata.csv', index=False)"
   ]
  },
  {
   "cell_type": "markdown",
   "id": "6f0e65af-1a6d-4572-b629-d9e78873bed5",
   "metadata": {},
   "source": [
    "#### Merge para crear columna con los scores de las peliculas en la tabla de plataformas"
   ]
  },
  {
   "cell_type": "code",
   "execution_count": 35,
   "id": "63fd7a13-74af-43cc-b30c-7cf4638bfb4e",
   "metadata": {},
   "outputs": [],
   "source": [
    "users = pd.read_csv('reviews_mean.csv')\n",
    "\n",
    "# Merge the two dataframes on their common column\n",
    "merged_df = pd.merge(plata, users, left_on='show_id', right_on='movieId')\n",
    "\n",
    "# Create a new column 'scores' in 'plata' dataframe by copying 'rating' column values from 'users'\n",
    "plata['scores'] = merged_df['rating']\n",
    "\n",
    "# Save the updated dataframe to a csv file\n",
    "plata.to_csv('platas.csv', index=False)"
   ]
  }
 ],
 "metadata": {
  "kernelspec": {
   "display_name": "Python 3 (ipykernel)",
   "language": "python",
   "name": "python3"
  },
  "language_info": {
   "codemirror_mode": {
    "name": "ipython",
    "version": 3
   },
   "file_extension": ".py",
   "mimetype": "text/x-python",
   "name": "python",
   "nbconvert_exporter": "python",
   "pygments_lexer": "ipython3",
   "version": "3.10.6"
  }
 },
 "nbformat": 4,
 "nbformat_minor": 5
}
