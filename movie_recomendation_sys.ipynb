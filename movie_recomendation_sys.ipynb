{
 "cells": [
  {
   "cell_type": "markdown",
   "metadata": {},
   "source": [
    "# Sistema de recomendación de películas"
   ]
  },
  {
   "cell_type": "markdown",
   "metadata": {},
   "source": [
    "#### Partimos de una archivo csv con algo más de 11 millones de filas. El archivo contiene columnas: 'userId', 'rating', 'timestamp', 'movieId'. "
   ]
  },
  {
   "cell_type": "code",
   "execution_count": 8,
   "metadata": {},
   "outputs": [],
   "source": [
    "import pandas as pd\n",
    "import numpy as np\n",
    "\n",
    "# Leer el archivo completo\n",
    "df = pd.read_csv('reviews.csv')"
   ]
  },
  {
   "cell_type": "code",
   "execution_count": 9,
   "metadata": {},
   "outputs": [
    {
     "data": {
      "text/plain": [
       "(11024289, 4)"
      ]
     },
     "execution_count": 9,
     "metadata": {},
     "output_type": "execute_result"
    }
   ],
   "source": [
    "df.shape"
   ]
  },
  {
   "cell_type": "code",
   "execution_count": 10,
   "metadata": {},
   "outputs": [
    {
     "data": {
      "text/html": [
       "<div>\n",
       "<style scoped>\n",
       "    .dataframe tbody tr th:only-of-type {\n",
       "        vertical-align: middle;\n",
       "    }\n",
       "\n",
       "    .dataframe tbody tr th {\n",
       "        vertical-align: top;\n",
       "    }\n",
       "\n",
       "    .dataframe thead th {\n",
       "        text-align: right;\n",
       "    }\n",
       "</style>\n",
       "<table border=\"1\" class=\"dataframe\">\n",
       "  <thead>\n",
       "    <tr style=\"text-align: right;\">\n",
       "      <th></th>\n",
       "      <th>userId</th>\n",
       "      <th>rating</th>\n",
       "      <th>timestamp</th>\n",
       "      <th>movieId</th>\n",
       "    </tr>\n",
       "  </thead>\n",
       "  <tbody>\n",
       "    <tr>\n",
       "      <th>0</th>\n",
       "      <td>1</td>\n",
       "      <td>1.0</td>\n",
       "      <td>1425941529</td>\n",
       "      <td>as680</td>\n",
       "    </tr>\n",
       "    <tr>\n",
       "      <th>1</th>\n",
       "      <td>1</td>\n",
       "      <td>4.5</td>\n",
       "      <td>1425942435</td>\n",
       "      <td>ns2186</td>\n",
       "    </tr>\n",
       "    <tr>\n",
       "      <th>2</th>\n",
       "      <td>1</td>\n",
       "      <td>5.0</td>\n",
       "      <td>1425941523</td>\n",
       "      <td>hs2381</td>\n",
       "    </tr>\n",
       "    <tr>\n",
       "      <th>3</th>\n",
       "      <td>1</td>\n",
       "      <td>5.0</td>\n",
       "      <td>1425941546</td>\n",
       "      <td>ns3663</td>\n",
       "    </tr>\n",
       "    <tr>\n",
       "      <th>4</th>\n",
       "      <td>1</td>\n",
       "      <td>5.0</td>\n",
       "      <td>1425941556</td>\n",
       "      <td>as9500</td>\n",
       "    </tr>\n",
       "  </tbody>\n",
       "</table>\n",
       "</div>"
      ],
      "text/plain": [
       "   userId  rating   timestamp movieId\n",
       "0       1     1.0  1425941529   as680\n",
       "1       1     4.5  1425942435  ns2186\n",
       "2       1     5.0  1425941523  hs2381\n",
       "3       1     5.0  1425941546  ns3663\n",
       "4       1     5.0  1425941556  as9500"
      ]
     },
     "execution_count": 10,
     "metadata": {},
     "output_type": "execute_result"
    }
   ],
   "source": [
    "df.head(5)"
   ]
  },
  {
   "cell_type": "code",
   "execution_count": 3,
   "metadata": {},
   "outputs": [
    {
     "data": {
      "text/plain": [
       "Index(['user', 'rating', 'movie'], dtype='object')"
      ]
     },
     "execution_count": 3,
     "metadata": {},
     "output_type": "execute_result"
    }
   ],
   "source": [
    "df.columns"
   ]
  },
  {
   "cell_type": "markdown",
   "metadata": {},
   "source": [
    "##### Trabajar con los 11 millones de registros puede ser bastante costoso en términos de tiempo y recursos computacionales. Una opción sería tomar un subset representativo de los datos.\n",
    "\n",
    "##### Una muestra aleatoria nos permitirá capturar la variabilidad general de los datos de manera más representativa, lo que nos ayudará a construir un modelo de recomendación más robusto y preciso.\n",
    "\n",
    "##### Por otro lado, una muestra estratificada es útil cuando se tiene conocimiento previo de que algunas subpoblaciones son más importantes o más relevantes que otras. En este caso, como no tenemos un conocimiento previo de qué usuarios o películas son más importantes o relevantes, una muestra aleatoria es más adecuada."
   ]
  },
  {
   "cell_type": "markdown",
   "metadata": {},
   "source": [
    "#### La técnica de selección aleatoria simple es un método común para seleccionar una muestra de una población. En este método, cada individuo de la población tiene la misma probabilidad de ser seleccionado para formar parte de la muestra."
   ]
  },
  {
   "cell_type": "code",
   "execution_count": 4,
   "metadata": {},
   "outputs": [
    {
     "name": "stdout",
     "output_type": "stream",
     "text": [
      "(551214, 3)\n"
     ]
    }
   ],
   "source": [
    "# Seleccionar una muestra aleatoria del 5% de los datos\n",
    "df_subset = df.sample(frac=0.05, random_state=42)\n",
    "\n",
    "# Verificar el tamaño del subset\n",
    "print(df_subset.shape)"
   ]
  },
  {
   "cell_type": "markdown",
   "metadata": {},
   "source": [
    "#### Limpieza de los datos"
   ]
  },
  {
   "cell_type": "code",
   "execution_count": 5,
   "metadata": {},
   "outputs": [
    {
     "name": "stdout",
     "output_type": "stream",
     "text": [
      "user      0\n",
      "rating    0\n",
      "movie     0\n",
      "dtype: int64\n"
     ]
    }
   ],
   "source": [
    "# Verificar valores faltantes en df original\n",
    "print(df.isna().sum())"
   ]
  },
  {
   "cell_type": "code",
   "execution_count": 6,
   "metadata": {},
   "outputs": [
    {
     "name": "stdout",
     "output_type": "stream",
     "text": [
      "user      0\n",
      "rating    0\n",
      "movie     0\n",
      "dtype: int64\n"
     ]
    }
   ],
   "source": [
    "# Verificar valores faltantes en df_subset\n",
    "print(df_subset.isna().sum())"
   ]
  },
  {
   "cell_type": "code",
   "execution_count": 7,
   "metadata": {},
   "outputs": [
    {
     "name": "stdout",
     "output_type": "stream",
     "text": [
      "75317\n"
     ]
    }
   ],
   "source": [
    "# Verificar valores duplicados en df original\n",
    "print(df.duplicated().sum())"
   ]
  },
  {
   "cell_type": "code",
   "execution_count": 5,
   "metadata": {},
   "outputs": [
    {
     "name": "stdout",
     "output_type": "stream",
     "text": [
      "0\n"
     ]
    }
   ],
   "source": [
    "# Verificar valores duplicados en df_subset\n",
    "print(df_subset.duplicated().sum())"
   ]
  },
  {
   "cell_type": "code",
   "execution_count": 8,
   "metadata": {},
   "outputs": [],
   "source": [
    "# Eliminar valores duplicados en df original\n",
    "df = df.drop_duplicates()"
   ]
  },
  {
   "cell_type": "markdown",
   "metadata": {},
   "source": [
    "#### Análisis exploratorio de los datos"
   ]
  },
  {
   "cell_type": "code",
   "execution_count": 9,
   "metadata": {},
   "outputs": [
    {
     "name": "stdout",
     "output_type": "stream",
     "text": [
      "             userId        rating     timestamp\n",
      "count  1.102416e+07  1.102416e+07  1.102416e+07\n",
      "mean   8.997232e+04  3.533454e+00  1.172542e+09\n",
      "std    8.686591e+04  1.059692e+00  2.056765e+08\n",
      "min    1.000000e+00  5.000000e-01  7.896520e+08\n",
      "25%    2.855800e+04  3.000000e+00  9.901882e+08\n",
      "50%    5.684300e+04  3.500000e+00  1.153612e+09\n",
      "75%    1.168670e+05  4.000000e+00  1.360470e+09\n",
      "max    2.708960e+05  5.000000e+00  1.501827e+09\n"
     ]
    }
   ],
   "source": [
    "# para df original\n",
    "print(df.describe())"
   ]
  },
  {
   "cell_type": "code",
   "execution_count": 6,
   "metadata": {},
   "outputs": [
    {
     "name": "stdout",
     "output_type": "stream",
     "text": [
      "              userId         rating     timestamp\n",
      "count  551214.000000  551214.000000  5.512140e+05\n",
      "mean    90052.634893       3.532793  1.172591e+09\n",
      "std     86925.396254       1.059849  2.055303e+08\n",
      "min         1.000000       0.500000  7.896520e+08\n",
      "25%     28528.000000       3.000000  9.907285e+08\n",
      "50%     56873.000000       3.500000  1.153613e+09\n",
      "75%    116933.000000       4.000000  1.360204e+09\n",
      "max    270896.000000       5.000000  1.501824e+09\n"
     ]
    }
   ],
   "source": [
    "# para df_subset \n",
    "print(df_subset.describe())"
   ]
  },
  {
   "cell_type": "code",
   "execution_count": 10,
   "metadata": {},
   "outputs": [
    {
     "data": {
      "image/png": "[encoded data removed]",
      "text/plain": [
       "<Figure size 640x480 with 1 Axes>"
      ]
     },
     "metadata": {},
     "output_type": "display_data"
    }
   ],
   "source": [
    "import matplotlib.pyplot as plt\n",
    "\n",
    "plt.hist(df['rating'], bins=10)\n",
    "plt.xlabel('Rating')\n",
    "plt.ylabel('Frequency')\n",
    "plt.title('Distribution of Ratings')\n",
    "plt.show()\n"
   ]
  },
  {
   "cell_type": "code",
   "execution_count": 7,
   "metadata": {},
   "outputs": [
    {
     "data": {
      "image/png": "[encoded data removed]",
      "text/plain": [
       "<Figure size 640x480 with 1 Axes>"
      ]
     },
     "metadata": {},
     "output_type": "display_data"
    }
   ],
   "source": [
    "import matplotlib.pyplot as plt\n",
    "\n",
    "plt.hist(df_subset['rating'], bins=10)\n",
    "plt.xlabel('Rating')\n",
    "plt.ylabel('Frequency')\n",
    "plt.title('Distribution of Ratings en df_subset')\n",
    "plt.show()"
   ]
  },
  {
   "cell_type": "code",
   "execution_count": 11,
   "metadata": {},
   "outputs": [
    {
     "data": {
      "image/png": "[encoded data removed]",
      "text/plain": [
       "<Figure size 640x480 with 1 Axes>"
      ]
     },
     "metadata": {},
     "output_type": "display_data"
    },
    {
     "data": {
      "image/png": "[encoded data removed]",
      "text/plain": [
       "<Figure size 640x480 with 1 Axes>"
      ]
     },
     "metadata": {},
     "output_type": "display_data"
    }
   ],
   "source": [
    "# Para df original\n",
    "\n",
    "import seaborn as sns\n",
    "import matplotlib.pyplot as plt\n",
    "\n",
    "# Diagrama de caja de las calificaciones\n",
    "sns.boxplot(x=df['rating'])\n",
    "plt.title('Diagrama de caja de calificaciones')\n",
    "plt.show()\n",
    "\n",
    "# Gráfico de densidad de las calificaciones\n",
    "sns.kdeplot(df['rating'])\n",
    "plt.title('Gráfico de densidad de calificaciones')\n",
    "plt.show()\n"
   ]
  },
  {
   "cell_type": "code",
   "execution_count": 8,
   "metadata": {},
   "outputs": [
    {
     "data": {
      "image/png": "[encoded data removed]",
      "text/plain": [
       "<Figure size 640x480 with 1 Axes>"
      ]
     },
     "metadata": {},
     "output_type": "display_data"
    },
    {
     "data": {
      "image/png": "[encoded data removed]",
      "text/plain": [
       "<Figure size 640x480 with 1 Axes>"
      ]
     },
     "metadata": {},
     "output_type": "display_data"
    }
   ],
   "source": [
    "# Para df_subset \n",
    "\n",
    "import seaborn as sns\n",
    "import matplotlib.pyplot as plt\n",
    "\n",
    "# Diagrama de caja de las calificaciones\n",
    "sns.boxplot(x=df_subset['rating'])\n",
    "plt.title('Diagrama de caja de ratings para df_subset')\n",
    "plt.show()\n",
    "\n",
    "# Gráfico de densidad de las calificaciones\n",
    "sns.kdeplot(df_subset['rating'])\n",
    "plt.title('Gráfico de densidad de rating para df_subset')\n",
    "plt.show()\n"
   ]
  },
  {
   "cell_type": "code",
   "execution_count": 15,
   "metadata": {},
   "outputs": [
    {
     "name": "stdout",
     "output_type": "stream",
     "text": [
      "4.0    148453\n",
      "3.0    111647\n",
      "5.0     80769\n",
      "3.5     66719\n",
      "4.5     45918\n",
      "2.0     36994\n",
      "2.5     26508\n",
      "1.0     17681\n",
      "1.5      8378\n",
      "0.5      8147\n",
      "Name: rating, dtype: int64\n"
     ]
    }
   ],
   "source": [
    "# Calcular la frecuencia de los diferentes ratings\n",
    "rating_counts = df_subset['rating'].value_counts()\n",
    "\n",
    "# Mostrar la frecuencia de los diferentes ratings\n",
    "print(rating_counts)"
   ]
  },
  {
   "cell_type": "code",
   "execution_count": 23,
   "metadata": {},
   "outputs": [
    {
     "name": "stdout",
     "output_type": "stream",
     "text": [
      "Películas más vistas (asumiendo esto por el número de usuarios que emitieron calificación)\n",
      "         rating_size  rating_mean\n",
      "movieId                          \n",
      "ns1500            46     3.315217\n",
      "ns8519            45     3.466667\n",
      "hs1892            44     3.579545\n",
      "hs2109            44     3.431818\n",
      "as843             43     3.674419\n",
      "\n",
      "Películas con mejores puntajes ('ratings')\n",
      "         rating_size  rating_mean\n",
      "movieId                          \n",
      "as6665            16     4.375000\n",
      "as1624            13     4.346154\n",
      "ns1021            20     4.325000\n",
      "ds234             23     4.304348\n",
      "as45              15     4.300000\n"
     ]
    }
   ],
   "source": [
    "# Agrupar el dataframe por película y calcular el número de calificaciones y la puntuación promedio\n",
    "\n",
    "movie_stats = df_subset.groupby('movieId').agg({'rating': [np.size, np.mean]})\n",
    "movie_stats.columns = ['_'.join(col).strip() for col in movie_stats.columns.values]\n",
    "\n",
    "# Imprimir las películas más populares (ordenadas por número de calificaciones en orden descendente)\n",
    "print(\"Películas más vistas (asumiendo esto por el número de usuarios que emitieron calificación)\")\n",
    "print(movie_stats.sort_values(('rating_size'), ascending=False).head())\n",
    "print('')\n",
    "\n",
    "# Imprimir las películas con mejor puntuación promedio (ordenadas por puntuación promedio en orden descendente)\n",
    "print(\"Películas con mejores puntajes ('ratings')\")\n",
    "print(movie_stats.sort_values(('rating_mean'), ascending=False).head())\n"
   ]
  },
  {
   "cell_type": "code",
   "execution_count": 24,
   "metadata": {},
   "outputs": [],
   "source": [
    "df_subset.to_csv('subset.csv')"
   ]
  },
  {
   "cell_type": "code",
   "execution_count": 32,
   "metadata": {},
   "outputs": [
    {
     "name": "stdout",
     "output_type": "stream",
     "text": [
      "<class 'pandas.core.frame.DataFrame'>\n",
      "Int64Index: 551214 entries, 7701246 to 9725953\n",
      "Data columns (total 4 columns):\n",
      " #   Column     Non-Null Count   Dtype  \n",
      "---  ------     --------------   -----  \n",
      " 0   userId     551214 non-null  int64  \n",
      " 1   rating     551214 non-null  float64\n",
      " 2   timestamp  551214 non-null  int64  \n",
      " 3   movieId    551214 non-null  object \n",
      "dtypes: float64(1), int64(2), object(1)\n",
      "memory usage: 21.0+ MB\n"
     ]
    }
   ],
   "source": [
    "data = df_subset.copy()\n",
    "data.info()"
   ]
  },
  {
   "cell_type": "markdown",
   "metadata": {},
   "source": [
    "### Modelado"
   ]
  },
  {
   "cell_type": "code",
   "execution_count": 26,
   "metadata": {},
   "outputs": [
    {
     "ename": "MemoryError",
     "evalue": "Unable to allocate 14.1 GiB for an array with shape (22998, 82578) and data type float64",
     "output_type": "error",
     "traceback": [
      "\u001b[1;31m---------------------------------------------------------------------------\u001b[0m",
      "\u001b[1;31mMemoryError\u001b[0m                               Traceback (most recent call last)",
      "Cell \u001b[1;32mIn[26], line 4\u001b[0m\n\u001b[0;32m      1\u001b[0m \u001b[39mfrom\u001b[39;00m \u001b[39msklearn\u001b[39;00m\u001b[39m.\u001b[39;00m\u001b[39mmetrics\u001b[39;00m\u001b[39m.\u001b[39;00m\u001b[39mpairwise\u001b[39;00m \u001b[39mimport\u001b[39;00m cosine_similarity\n\u001b[0;32m      3\u001b[0m \u001b[39m# Pivot table para crear una matriz de películas x usuarios\u001b[39;00m\n\u001b[1;32m----> 4\u001b[0m pivot \u001b[39m=\u001b[39m data\u001b[39m.\u001b[39;49mpivot_table(index\u001b[39m=\u001b[39;49m\u001b[39m'\u001b[39;49m\u001b[39mmovieId\u001b[39;49m\u001b[39m'\u001b[39;49m, columns\u001b[39m=\u001b[39;49m\u001b[39m'\u001b[39;49m\u001b[39muserId\u001b[39;49m\u001b[39m'\u001b[39;49m, values\u001b[39m=\u001b[39;49m\u001b[39m'\u001b[39;49m\u001b[39mrating\u001b[39;49m\u001b[39m'\u001b[39;49m)\n\u001b[0;32m      6\u001b[0m \u001b[39m# Llenar valores faltantes con 0\u001b[39;00m\n\u001b[0;32m      7\u001b[0m pivot\u001b[39m.\u001b[39mfillna(\u001b[39m0\u001b[39m, inplace\u001b[39m=\u001b[39m\u001b[39mTrue\u001b[39;00m)\n",
      "File \u001b[1;32mc:\\Users\\Usuario\\anaconda3\\lib\\site-packages\\pandas\\core\\frame.py:8728\u001b[0m, in \u001b[0;36mDataFrame.pivot_table\u001b[1;34m(self, values, index, columns, aggfunc, fill_value, margins, dropna, margins_name, observed, sort)\u001b[0m\n\u001b[0;32m   8711\u001b[0m \u001b[39m@Substitution\u001b[39m(\u001b[39m\"\u001b[39m\u001b[39m\"\u001b[39m)\n\u001b[0;32m   8712\u001b[0m \u001b[39m@Appender\u001b[39m(_shared_docs[\u001b[39m\"\u001b[39m\u001b[39mpivot_table\u001b[39m\u001b[39m\"\u001b[39m])\n\u001b[0;32m   8713\u001b[0m \u001b[39mdef\u001b[39;00m \u001b[39mpivot_table\u001b[39m(\n\u001b[1;32m   (...)\u001b[0m\n\u001b[0;32m   8724\u001b[0m     sort\u001b[39m=\u001b[39m\u001b[39mTrue\u001b[39;00m,\n\u001b[0;32m   8725\u001b[0m ) \u001b[39m-\u001b[39m\u001b[39m>\u001b[39m DataFrame:\n\u001b[0;32m   8726\u001b[0m     \u001b[39mfrom\u001b[39;00m \u001b[39mpandas\u001b[39;00m\u001b[39m.\u001b[39;00m\u001b[39mcore\u001b[39;00m\u001b[39m.\u001b[39;00m\u001b[39mreshape\u001b[39;00m\u001b[39m.\u001b[39;00m\u001b[39mpivot\u001b[39;00m \u001b[39mimport\u001b[39;00m pivot_table\n\u001b[1;32m-> 8728\u001b[0m     \u001b[39mreturn\u001b[39;00m pivot_table(\n\u001b[0;32m   8729\u001b[0m         \u001b[39mself\u001b[39;49m,\n\u001b[0;32m   8730\u001b[0m         values\u001b[39m=\u001b[39;49mvalues,\n\u001b[0;32m   8731\u001b[0m         index\u001b[39m=\u001b[39;49mindex,\n\u001b[0;32m   8732\u001b[0m         columns\u001b[39m=\u001b[39;49mcolumns,\n\u001b[0;32m   8733\u001b[0m         aggfunc\u001b[39m=\u001b[39;49maggfunc,\n\u001b[0;32m   8734\u001b[0m         fill_value\u001b[39m=\u001b[39;49mfill_value,\n\u001b[0;32m   8735\u001b[0m         margins\u001b[39m=\u001b[39;49mmargins,\n\u001b[0;32m   8736\u001b[0m         dropna\u001b[39m=\u001b[39;49mdropna,\n\u001b[0;32m   8737\u001b[0m         margins_name\u001b[39m=\u001b[39;49mmargins_name,\n\u001b[0;32m   8738\u001b[0m         observed\u001b[39m=\u001b[39;49mobserved,\n\u001b[0;32m   8739\u001b[0m         sort\u001b[39m=\u001b[39;49msort,\n\u001b[0;32m   8740\u001b[0m     )\n",
      "File \u001b[1;32mc:\\Users\\Usuario\\anaconda3\\lib\\site-packages\\pandas\\core\\reshape\\pivot.py:97\u001b[0m, in \u001b[0;36mpivot_table\u001b[1;34m(data, values, index, columns, aggfunc, fill_value, margins, dropna, margins_name, observed, sort)\u001b[0m\n\u001b[0;32m     94\u001b[0m     table \u001b[39m=\u001b[39m concat(pieces, keys\u001b[39m=\u001b[39mkeys, axis\u001b[39m=\u001b[39m\u001b[39m1\u001b[39m)\n\u001b[0;32m     95\u001b[0m     \u001b[39mreturn\u001b[39;00m table\u001b[39m.\u001b[39m__finalize__(data, method\u001b[39m=\u001b[39m\u001b[39m\"\u001b[39m\u001b[39mpivot_table\u001b[39m\u001b[39m\"\u001b[39m)\n\u001b[1;32m---> 97\u001b[0m table \u001b[39m=\u001b[39m __internal_pivot_table(\n\u001b[0;32m     98\u001b[0m     data,\n\u001b[0;32m     99\u001b[0m     values,\n\u001b[0;32m    100\u001b[0m     index,\n\u001b[0;32m    101\u001b[0m     columns,\n\u001b[0;32m    102\u001b[0m     aggfunc,\n\u001b[0;32m    103\u001b[0m     fill_value,\n\u001b[0;32m    104\u001b[0m     margins,\n\u001b[0;32m    105\u001b[0m     dropna,\n\u001b[0;32m    106\u001b[0m     margins_name,\n\u001b[0;32m    107\u001b[0m     observed,\n\u001b[0;32m    108\u001b[0m     sort,\n\u001b[0;32m    109\u001b[0m )\n\u001b[0;32m    110\u001b[0m \u001b[39mreturn\u001b[39;00m table\u001b[39m.\u001b[39m__finalize__(data, method\u001b[39m=\u001b[39m\u001b[39m\"\u001b[39m\u001b[39mpivot_table\u001b[39m\u001b[39m\"\u001b[39m)\n",
      "File \u001b[1;32mc:\\Users\\Usuario\\anaconda3\\lib\\site-packages\\pandas\\core\\reshape\\pivot.py:235\u001b[0m, in \u001b[0;36m__internal_pivot_table\u001b[1;34m(data, values, index, columns, aggfunc, fill_value, margins, dropna, margins_name, observed, sort)\u001b[0m\n\u001b[0;32m    232\u001b[0m         table \u001b[39m=\u001b[39m table\u001b[39m.\u001b[39mreindex(m, axis\u001b[39m=\u001b[39m\u001b[39m1\u001b[39m)\n\u001b[0;32m    234\u001b[0m \u001b[39mif\u001b[39;00m sort \u001b[39mis\u001b[39;00m \u001b[39mTrue\u001b[39;00m \u001b[39mand\u001b[39;00m \u001b[39misinstance\u001b[39m(table, ABCDataFrame):\n\u001b[1;32m--> 235\u001b[0m     table \u001b[39m=\u001b[39m table\u001b[39m.\u001b[39;49msort_index(axis\u001b[39m=\u001b[39;49m\u001b[39m1\u001b[39;49m)\n\u001b[0;32m    237\u001b[0m \u001b[39mif\u001b[39;00m fill_value \u001b[39mis\u001b[39;00m \u001b[39mnot\u001b[39;00m \u001b[39mNone\u001b[39;00m:\n\u001b[0;32m    238\u001b[0m     table \u001b[39m=\u001b[39m table\u001b[39m.\u001b[39mfillna(fill_value, downcast\u001b[39m=\u001b[39m\u001b[39m\"\u001b[39m\u001b[39minfer\u001b[39m\u001b[39m\"\u001b[39m)\n",
      "File \u001b[1;32mc:\\Users\\Usuario\\anaconda3\\lib\\site-packages\\pandas\\util\\_decorators.py:331\u001b[0m, in \u001b[0;36mdeprecate_nonkeyword_arguments.<locals>.decorate.<locals>.wrapper\u001b[1;34m(*args, **kwargs)\u001b[0m\n\u001b[0;32m    325\u001b[0m \u001b[39mif\u001b[39;00m \u001b[39mlen\u001b[39m(args) \u001b[39m>\u001b[39m num_allow_args:\n\u001b[0;32m    326\u001b[0m     warnings\u001b[39m.\u001b[39mwarn(\n\u001b[0;32m    327\u001b[0m         msg\u001b[39m.\u001b[39mformat(arguments\u001b[39m=\u001b[39m_format_argument_list(allow_args)),\n\u001b[0;32m    328\u001b[0m         \u001b[39mFutureWarning\u001b[39;00m,\n\u001b[0;32m    329\u001b[0m         stacklevel\u001b[39m=\u001b[39mfind_stack_level(),\n\u001b[0;32m    330\u001b[0m     )\n\u001b[1;32m--> 331\u001b[0m \u001b[39mreturn\u001b[39;00m func(\u001b[39m*\u001b[39margs, \u001b[39m*\u001b[39m\u001b[39m*\u001b[39mkwargs)\n",
      "File \u001b[1;32mc:\\Users\\Usuario\\anaconda3\\lib\\site-packages\\pandas\\core\\frame.py:7092\u001b[0m, in \u001b[0;36mDataFrame.sort_index\u001b[1;34m(self, axis, level, ascending, inplace, kind, na_position, sort_remaining, ignore_index, key)\u001b[0m\n\u001b[0;32m   6990\u001b[0m \u001b[39m@deprecate_nonkeyword_arguments\u001b[39m(version\u001b[39m=\u001b[39m\u001b[39mNone\u001b[39;00m, allowed_args\u001b[39m=\u001b[39m[\u001b[39m\"\u001b[39m\u001b[39mself\u001b[39m\u001b[39m\"\u001b[39m])\n\u001b[0;32m   6991\u001b[0m \u001b[39mdef\u001b[39;00m \u001b[39msort_index\u001b[39m(  \u001b[39m# type: ignore[override]\u001b[39;00m\n\u001b[0;32m   6992\u001b[0m     \u001b[39mself\u001b[39m,\n\u001b[1;32m   (...)\u001b[0m\n\u001b[0;32m   7001\u001b[0m     key: IndexKeyFunc \u001b[39m=\u001b[39m \u001b[39mNone\u001b[39;00m,\n\u001b[0;32m   7002\u001b[0m ) \u001b[39m-\u001b[39m\u001b[39m>\u001b[39m DataFrame \u001b[39m|\u001b[39m \u001b[39mNone\u001b[39;00m:\n\u001b[0;32m   7003\u001b[0m     \u001b[39m\"\"\"\u001b[39;00m\n\u001b[0;32m   7004\u001b[0m \u001b[39m    Sort object by labels (along an axis).\u001b[39;00m\n\u001b[0;32m   7005\u001b[0m \n\u001b[1;32m   (...)\u001b[0m\n\u001b[0;32m   7090\u001b[0m \u001b[39m    d  4\u001b[39;00m\n\u001b[0;32m   7091\u001b[0m \u001b[39m    \"\"\"\u001b[39;00m\n\u001b[1;32m-> 7092\u001b[0m     \u001b[39mreturn\u001b[39;00m \u001b[39msuper\u001b[39;49m()\u001b[39m.\u001b[39;49msort_index(\n\u001b[0;32m   7093\u001b[0m         axis\u001b[39m=\u001b[39;49maxis,\n\u001b[0;32m   7094\u001b[0m         level\u001b[39m=\u001b[39;49mlevel,\n\u001b[0;32m   7095\u001b[0m         ascending\u001b[39m=\u001b[39;49mascending,\n\u001b[0;32m   7096\u001b[0m         inplace\u001b[39m=\u001b[39;49minplace,\n\u001b[0;32m   7097\u001b[0m         kind\u001b[39m=\u001b[39;49mkind,\n\u001b[0;32m   7098\u001b[0m         na_position\u001b[39m=\u001b[39;49mna_position,\n\u001b[0;32m   7099\u001b[0m         sort_remaining\u001b[39m=\u001b[39;49msort_remaining,\n\u001b[0;32m   7100\u001b[0m         ignore_index\u001b[39m=\u001b[39;49mignore_index,\n\u001b[0;32m   7101\u001b[0m         key\u001b[39m=\u001b[39;49mkey,\n\u001b[0;32m   7102\u001b[0m     )\n",
      "File \u001b[1;32mc:\\Users\\Usuario\\anaconda3\\lib\\site-packages\\pandas\\core\\generic.py:5028\u001b[0m, in \u001b[0;36mNDFrame.sort_index\u001b[1;34m(self, axis, level, ascending, inplace, kind, na_position, sort_remaining, ignore_index, key)\u001b[0m\n\u001b[0;32m   5025\u001b[0m         \u001b[39mreturn\u001b[39;00m result\n\u001b[0;32m   5027\u001b[0m baxis \u001b[39m=\u001b[39m \u001b[39mself\u001b[39m\u001b[39m.\u001b[39m_get_block_manager_axis(axis)\n\u001b[1;32m-> 5028\u001b[0m new_data \u001b[39m=\u001b[39m \u001b[39mself\u001b[39;49m\u001b[39m.\u001b[39;49m_mgr\u001b[39m.\u001b[39;49mtake(indexer, axis\u001b[39m=\u001b[39;49mbaxis, verify\u001b[39m=\u001b[39;49m\u001b[39mFalse\u001b[39;49;00m)\n\u001b[0;32m   5030\u001b[0m \u001b[39m# reconstruct axis if needed\u001b[39;00m\n\u001b[0;32m   5031\u001b[0m new_data\u001b[39m.\u001b[39mset_axis(baxis, new_data\u001b[39m.\u001b[39maxes[baxis]\u001b[39m.\u001b[39m_sort_levels_monotonic())\n",
      "File \u001b[1;32mc:\\Users\\Usuario\\anaconda3\\lib\\site-packages\\pandas\\core\\internals\\managers.py:980\u001b[0m, in \u001b[0;36mBaseBlockManager.take\u001b[1;34m(self, indexer, axis, verify, convert_indices)\u001b[0m\n\u001b[0;32m    977\u001b[0m     indexer \u001b[39m=\u001b[39m maybe_convert_indices(indexer, n, verify\u001b[39m=\u001b[39mverify)\n\u001b[0;32m    979\u001b[0m new_labels \u001b[39m=\u001b[39m \u001b[39mself\u001b[39m\u001b[39m.\u001b[39maxes[axis]\u001b[39m.\u001b[39mtake(indexer)\n\u001b[1;32m--> 980\u001b[0m \u001b[39mreturn\u001b[39;00m \u001b[39mself\u001b[39;49m\u001b[39m.\u001b[39;49mreindex_indexer(\n\u001b[0;32m    981\u001b[0m     new_axis\u001b[39m=\u001b[39;49mnew_labels,\n\u001b[0;32m    982\u001b[0m     indexer\u001b[39m=\u001b[39;49mindexer,\n\u001b[0;32m    983\u001b[0m     axis\u001b[39m=\u001b[39;49maxis,\n\u001b[0;32m    984\u001b[0m     allow_dups\u001b[39m=\u001b[39;49m\u001b[39mTrue\u001b[39;49;00m,\n\u001b[0;32m    985\u001b[0m     copy\u001b[39m=\u001b[39;49m\u001b[39mNone\u001b[39;49;00m,\n\u001b[0;32m    986\u001b[0m )\n",
      "File \u001b[1;32mc:\\Users\\Usuario\\anaconda3\\lib\\site-packages\\pandas\\core\\internals\\managers.py:745\u001b[0m, in \u001b[0;36mBaseBlockManager.reindex_indexer\u001b[1;34m(self, new_axis, indexer, axis, fill_value, allow_dups, copy, only_slice, use_na_proxy)\u001b[0m\n\u001b[0;32m    742\u001b[0m     \u001b[39mraise\u001b[39;00m \u001b[39mIndexError\u001b[39;00m(\u001b[39m\"\u001b[39m\u001b[39mRequested axis not found in manager\u001b[39m\u001b[39m\"\u001b[39m)\n\u001b[0;32m    744\u001b[0m \u001b[39mif\u001b[39;00m axis \u001b[39m==\u001b[39m \u001b[39m0\u001b[39m:\n\u001b[1;32m--> 745\u001b[0m     new_blocks, new_refs \u001b[39m=\u001b[39m \u001b[39mself\u001b[39;49m\u001b[39m.\u001b[39;49m_slice_take_blocks_ax0(\n\u001b[0;32m    746\u001b[0m         indexer,\n\u001b[0;32m    747\u001b[0m         fill_value\u001b[39m=\u001b[39;49mfill_value,\n\u001b[0;32m    748\u001b[0m         only_slice\u001b[39m=\u001b[39;49monly_slice,\n\u001b[0;32m    749\u001b[0m         use_na_proxy\u001b[39m=\u001b[39;49muse_na_proxy,\n\u001b[0;32m    750\u001b[0m     )\n\u001b[0;32m    751\u001b[0m     parent \u001b[39m=\u001b[39m \u001b[39mNone\u001b[39;00m \u001b[39mif\u001b[39;00m com\u001b[39m.\u001b[39mall_none(\u001b[39m*\u001b[39mnew_refs) \u001b[39melse\u001b[39;00m \u001b[39mself\u001b[39m\n\u001b[0;32m    752\u001b[0m \u001b[39melse\u001b[39;00m:\n",
      "File \u001b[1;32mc:\\Users\\Usuario\\anaconda3\\lib\\site-packages\\pandas\\core\\internals\\managers.py:914\u001b[0m, in \u001b[0;36mBaseBlockManager._slice_take_blocks_ax0\u001b[1;34m(self, slice_or_indexer, fill_value, only_slice, use_na_proxy)\u001b[0m\n\u001b[0;32m    912\u001b[0m         refs\u001b[39m.\u001b[39mappend(weakref\u001b[39m.\u001b[39mref(blk))\n\u001b[0;32m    913\u001b[0m \u001b[39melse\u001b[39;00m:\n\u001b[1;32m--> 914\u001b[0m     nb \u001b[39m=\u001b[39m blk\u001b[39m.\u001b[39;49mtake_nd(taker, axis\u001b[39m=\u001b[39;49m\u001b[39m0\u001b[39;49m, new_mgr_locs\u001b[39m=\u001b[39;49mmgr_locs)\n\u001b[0;32m    915\u001b[0m     blocks\u001b[39m.\u001b[39mappend(nb)\n\u001b[0;32m    916\u001b[0m     refs\u001b[39m.\u001b[39mappend(\u001b[39mNone\u001b[39;00m)\n",
      "File \u001b[1;32mc:\\Users\\Usuario\\anaconda3\\lib\\site-packages\\pandas\\core\\internals\\blocks.py:880\u001b[0m, in \u001b[0;36mBlock.take_nd\u001b[1;34m(self, indexer, axis, new_mgr_locs, fill_value)\u001b[0m\n\u001b[0;32m    877\u001b[0m     allow_fill \u001b[39m=\u001b[39m \u001b[39mTrue\u001b[39;00m\n\u001b[0;32m    879\u001b[0m \u001b[39m# Note: algos.take_nd has upcast logic similar to coerce_to_target_dtype\u001b[39;00m\n\u001b[1;32m--> 880\u001b[0m new_values \u001b[39m=\u001b[39m algos\u001b[39m.\u001b[39;49mtake_nd(\n\u001b[0;32m    881\u001b[0m     values, indexer, axis\u001b[39m=\u001b[39;49maxis, allow_fill\u001b[39m=\u001b[39;49mallow_fill, fill_value\u001b[39m=\u001b[39;49mfill_value\n\u001b[0;32m    882\u001b[0m )\n\u001b[0;32m    884\u001b[0m \u001b[39m# Called from three places in managers, all of which satisfy\u001b[39;00m\n\u001b[0;32m    885\u001b[0m \u001b[39m#  this assertion\u001b[39;00m\n\u001b[0;32m    886\u001b[0m \u001b[39massert\u001b[39;00m \u001b[39mnot\u001b[39;00m (axis \u001b[39m==\u001b[39m \u001b[39m0\u001b[39m \u001b[39mand\u001b[39;00m new_mgr_locs \u001b[39mis\u001b[39;00m \u001b[39mNone\u001b[39;00m)\n",
      "File \u001b[1;32mc:\\Users\\Usuario\\anaconda3\\lib\\site-packages\\pandas\\core\\array_algos\\take.py:117\u001b[0m, in \u001b[0;36mtake_nd\u001b[1;34m(arr, indexer, axis, fill_value, allow_fill)\u001b[0m\n\u001b[0;32m    114\u001b[0m     \u001b[39mreturn\u001b[39;00m arr\u001b[39m.\u001b[39mtake(indexer, fill_value\u001b[39m=\u001b[39mfill_value, allow_fill\u001b[39m=\u001b[39mallow_fill)\n\u001b[0;32m    116\u001b[0m arr \u001b[39m=\u001b[39m np\u001b[39m.\u001b[39masarray(arr)\n\u001b[1;32m--> 117\u001b[0m \u001b[39mreturn\u001b[39;00m _take_nd_ndarray(arr, indexer, axis, fill_value, allow_fill)\n",
      "File \u001b[1;32mc:\\Users\\Usuario\\anaconda3\\lib\\site-packages\\pandas\\core\\array_algos\\take.py:158\u001b[0m, in \u001b[0;36m_take_nd_ndarray\u001b[1;34m(arr, indexer, axis, fill_value, allow_fill)\u001b[0m\n\u001b[0;32m    156\u001b[0m     out \u001b[39m=\u001b[39m np\u001b[39m.\u001b[39mempty(out_shape, dtype\u001b[39m=\u001b[39mdtype, order\u001b[39m=\u001b[39m\u001b[39m\"\u001b[39m\u001b[39mF\u001b[39m\u001b[39m\"\u001b[39m)\n\u001b[0;32m    157\u001b[0m \u001b[39melse\u001b[39;00m:\n\u001b[1;32m--> 158\u001b[0m     out \u001b[39m=\u001b[39m np\u001b[39m.\u001b[39;49mempty(out_shape, dtype\u001b[39m=\u001b[39;49mdtype)\n\u001b[0;32m    160\u001b[0m func \u001b[39m=\u001b[39m _get_take_nd_function(\n\u001b[0;32m    161\u001b[0m     arr\u001b[39m.\u001b[39mndim, arr\u001b[39m.\u001b[39mdtype, out\u001b[39m.\u001b[39mdtype, axis\u001b[39m=\u001b[39maxis, mask_info\u001b[39m=\u001b[39mmask_info\n\u001b[0;32m    162\u001b[0m )\n\u001b[0;32m    163\u001b[0m func(arr, indexer, out, fill_value)\n",
      "\u001b[1;31mMemoryError\u001b[0m: Unable to allocate 14.1 GiB for an array with shape (22998, 82578) and data type float64"
     ]
    }
   ],
   "source": [
    "from sklearn.metrics.pairwise import cosine_similarity\n",
    "\n",
    "# Pivot table para crear una matriz de películas x usuarios\n",
    "pivot = data.pivot_table(index='movieId', columns='userId', values='rating')\n",
    "\n",
    "# Llenar valores faltantes con 0\n",
    "pivot.fillna(0, inplace=True)\n",
    "\n",
    "# Calcular la similitud de coseno entre películas\n",
    "item_similarity = cosine_similarity(pivot.T)\n"
   ]
  },
  {
   "cell_type": "code",
   "execution_count": 22,
   "metadata": {},
   "outputs": [],
   "source": [
    "import pandas as pd\n",
    "import numpy as np\n",
    "df = pd.read_csv('subset.csv')"
   ]
  },
  {
   "cell_type": "code",
   "execution_count": 23,
   "metadata": {},
   "outputs": [
    {
     "data": {
      "text/plain": [
       "array([5. , 4.5, 4. , 3.5, 2.5, 3. , 0.5, 2. , 1. , 1.5])"
      ]
     },
     "execution_count": 23,
     "metadata": {},
     "output_type": "execute_result"
    }
   ],
   "source": [
    "df['rating'].unique()"
   ]
  },
  {
   "cell_type": "code",
   "execution_count": 24,
   "metadata": {},
   "outputs": [
    {
     "name": "stdout",
     "output_type": "stream",
     "text": [
      "[5 4 3 1 2]\n"
     ]
    }
   ],
   "source": [
    "from surprise import Reader\n",
    "\n",
    "# Definir el Reader para el conjunto de datos\n",
    "reader = Reader(rating_scale=(1, 5))\n",
    "\n",
    "# Mapear los valores de 'rating' utilizando un diccionario\n",
    "rating_scale = {0.5: 1, 1.0: 1, 1.5: 2, 2.0: 2, 2.5: 3, 3.0: 3, 3.5: 4, 4.0: 4, 4.5: 5, 5.0: 5}\n",
    "\n",
    "# Aplicar el mapeo a la columna 'rating' del dataframe\n",
    "df['rating'] = df['rating'].apply(lambda x: rating_scale[x])\n",
    "\n",
    "# Imprimir los valores únicos en la columna 'rating' para verificar que se escaló correctamente\n",
    "print(df['rating'].unique())"
   ]
  },
  {
   "cell_type": "code",
   "execution_count": 25,
   "metadata": {},
   "outputs": [],
   "source": [
    "df = df.drop(['Unnamed: 0', 'timestamp'], axis=1)"
   ]
  },
  {
   "cell_type": "code",
   "execution_count": 26,
   "metadata": {},
   "outputs": [],
   "source": [
    "df.to_csv('subset_listo.csv', index=False)"
   ]
  },
  {
   "cell_type": "code",
   "execution_count": 27,
   "metadata": {},
   "outputs": [],
   "source": [
    "df = pd.read_csv('subset_listo.csv')"
   ]
  },
  {
   "cell_type": "code",
   "execution_count": 28,
   "metadata": {},
   "outputs": [
    {
     "data": {
      "text/plain": [
       "Index(['userId', 'rating', 'movieId'], dtype='object')"
      ]
     },
     "execution_count": 28,
     "metadata": {},
     "output_type": "execute_result"
    }
   ],
   "source": [
    "df.columns"
   ]
  },
  {
   "cell_type": "code",
   "execution_count": 29,
   "metadata": {},
   "outputs": [
    {
     "name": "stdout",
     "output_type": "stream",
     "text": [
      "Evaluating RMSE, MAE of algorithm SVD on 5 split(s).\n",
      "\n",
      "                  Fold 1  Fold 2  Fold 3  Fold 4  Fold 5  Mean    Std     \n",
      "RMSE (testset)    1.0242  1.0243  1.0257  1.0258  1.0238  1.0248  0.0008  \n",
      "MAE (testset)     0.8105  0.8107  0.8123  0.8118  0.8108  0.8112  0.0007  \n",
      "Fit time          15.39   15.70   15.58   15.70   16.15   15.70   0.25    \n",
      "Test time         2.98    2.95    2.95    2.45    2.94    2.85    0.20    \n"
     ]
    },
    {
     "data": {
      "text/plain": [
       "{'test_rmse': array([1.02419214, 1.0243171 , 1.0256858 , 1.02582885, 1.02383699]),\n",
       " 'test_mae': array([0.81045418, 0.81067977, 0.81231001, 0.81184842, 0.8107836 ]),\n",
       " 'fit_time': (15.386035919189453,\n",
       "  15.700997591018677,\n",
       "  15.58381986618042,\n",
       "  15.704992532730103,\n",
       "  16.148995399475098),\n",
       " 'test_time': (2.9809906482696533,\n",
       "  2.9472086429595947,\n",
       "  2.945997714996338,\n",
       "  2.453207015991211,\n",
       "  2.943049192428589)}"
      ]
     },
     "execution_count": 29,
     "metadata": {},
     "output_type": "execute_result"
    }
   ],
   "source": [
    "from surprise import Dataset, Reader\n",
    "from surprise import SVD\n",
    "from surprise.model_selection import cross_validate\n",
    "\n",
    "# Cargar los datos desde el dataframe 'data' utilizando el Reader\n",
    "O_Dataset = Dataset.load_from_df(df[['userId', 'movieId', 'rating']], reader)\n",
    "\n",
    "# Definir el modelo SVD\n",
    "model1 = SVD()\n",
    "\n",
    "# Evaluar el modelo utilizando validación cruzada\n",
    "cross_validate(model1, O_Dataset, measures=['RMSE', 'MAE'], cv=5, verbose=True)\n"
   ]
  },
  {
   "cell_type": "markdown",
   "metadata": {},
   "source": [
    "    \"\"\"\n",
    "    El modelo SVD que has corrido es un modelo básico y su rendimiento puede ser evaluado utilizando métricas como RMSE (Error cuadrático medio) y MAE (Error absoluto medio) obtenidos a través de la validación cruzada. En general, un modelo con menor RMSE y MAE es considerado mejor que uno con valores más altos.\n",
    "\n",
    "Para este primer modelo el RMSE obtenido es de alrededor de 1.02, lo que sugiere que el modelo tiene un error promedio de aproximadamente 1 punto en su capacidad para predecir las calificaciones de películas para un usuario dado. \n",
    "\n",
    "El MAE obtenido es de alrededor de 0.8, lo que sugiere que, en promedio, el modelo se equivoca en aproximadamente 0.8 puntos en su capacidad para predecir las calificaciones de películas para un usuario dado.\n",
    "    \"\"\""
   ]
  },
  {
   "cell_type": "markdown",
   "metadata": {},
   "source": [
    "#### búsqueda en cuadrícula para encontrar los mejores hiperparámetros para el modelo SVD utilizando validación cruzada. Los hiperparámetros que se prueban son el número de factores latentes y la tasa de regularización."
   ]
  },
  {
   "cell_type": "markdown",
   "metadata": {},
   "source": [
    "##### Los hiperparámetros que se prueban en la búsqueda en cuadrícula se seleccionan de acuerdo con la experiencia previa, la documentación y los conocimientos del problema. En este caso, los valores (50, 100, 150) para n_factors y (0.02, 0.05, 0.1) para reg_all se pueden considerar como valores comunes que se prueban en la optimización de modelos basados en factorización de matrices, como el algoritmo SVD utilizado en este caso. Estos valores son solo una elección común y es posible que haya otros valores que funcionen mejor para un conjunto de datos específico. Por lo tanto, se pueden probar diferentes valores para estos hiperparámetros y comparar los resultados para elegir los mejores."
   ]
  },
  {
   "cell_type": "code",
   "execution_count": 31,
   "metadata": {},
   "outputs": [
    {
     "name": "stdout",
     "output_type": "stream",
     "text": [
      "1.0194586154107728\n",
      "{'n_factors': 50, 'reg_all': 0.1}\n"
     ]
    }
   ],
   "source": [
    "from surprise import SVD\n",
    "from surprise.model_selection import GridSearchCV\n",
    "\n",
    "# Definir los hiperparámetros a probar\n",
    "param_grid = {'n_factors': [50, 100, 150], 'reg_all': [0.02, 0.05, 0.1]}\n",
    "\n",
    "# Definir una función lambda que crea un objeto SVD con los hiperparámetros específicos\n",
    "svd = lambda n_factors, reg_all: SVD(n_factors=n_factors, reg_all=reg_all)\n",
    "\n",
    "# Definir la búsqueda en cuadrícula\n",
    "grid_search = GridSearchCV(svd, param_grid, measures=['rmse'], cv=5)\n",
    "\n",
    "# Entrenar el modelo con la búsqueda en cuadrícula\n",
    "grid_search.fit(O_Dataset)\n",
    "\n",
    "# Imprimir los mejores resultados\n",
    "print(grid_search.best_score['rmse'])\n",
    "print(grid_search.best_params['rmse'])\n"
   ]
  },
  {
   "cell_type": "markdown",
   "metadata": {},
   "source": [
    "#### Recapitulando lo que se ha hecho hasta el momento"
   ]
  },
  {
   "cell_type": "markdown",
   "metadata": {},
   "source": [
    "##### Para empezar, se cargó el archivo completo y se extrajo una muestra aleatoria del 5% de los datos utilizando Pandas. Posteriormente, se verificaron los valores faltantes y duplicados en la muestra y se eliminaron los valores duplicados del conjunto de datos original.\n",
    "\n",
    "##### Después se realizó un análisis exploratorio de los datos y se observó que la distribución de calificaciones de la muestra estaba sesgada hacia calificaciones más altas, y se graficaron la distribución de calificaciones, el diagrama de caja y el gráfico de densidad.\n",
    "\n",
    "##### continuación, se agrupó el conjunto de datos por película y se calculó el número de calificaciones y la puntuación promedio. Se identificaron las películas más populares, definidas por el número de usuarios que emitieron una calificación, y las películas con mejores puntuaciones promedio.\n",
    "\n",
    "##### Se procedió a trabajar con una muestra más pequeña para crear la matriz de similitud de coseno entre películas, pero debido a la gran cantidad de memoria que se requería, se decidió utilizar otro enfoque con el paquete Surprise de Python para crear un modelo de recomendación basado en factorización de matrices utilizando el algoritmo SVD.\n",
    "\n",
    "##### Se escaló la columna de calificaciones y se eliminaron columnas innecesarias. Luego se utilizó GridSearchCV para encontrar los mejores valores de hiperparámetros para el modelo SVD y se evaluó el modelo utilizando validación cruzada. Los resultados indicaron que el modelo tiene un RMSE promedio de 1.02, lo que sugiere que el modelo tiene cierto error en sus predicciones.\n",
    "\n",
    "##### con los datos y pasos que se han tomado hasta ahora (carga y limpieza de datos, selección de muestra, preparación de los datos para el modelo), se está en un buen camino para desarrollar un modelo de recomendación que pueda generar predicciones de calificaciones para películas basado en el historial de calificaciones de los usuarios."
   ]
  },
  {
   "cell_type": "markdown",
   "metadata": {},
   "source": [
    "### Entrenamiento del modelo"
   ]
  },
  {
   "cell_type": "markdown",
   "metadata": {},
   "source": [
    "##### Primero vamos a preparar el archivo con todos los registros (el de los 11 millones)"
   ]
  },
  {
   "cell_type": "code",
   "execution_count": 32,
   "metadata": {},
   "outputs": [],
   "source": [
    "pandita = pd.read_csv('reviews.csv')"
   ]
  },
  {
   "cell_type": "code",
   "execution_count": 34,
   "metadata": {},
   "outputs": [],
   "source": [
    "pandita = pandita.drop(['timestamp'], axis=1)"
   ]
  },
  {
   "cell_type": "code",
   "execution_count": 35,
   "metadata": {},
   "outputs": [
    {
     "name": "stdout",
     "output_type": "stream",
     "text": [
      "[1 5 4 3 2]\n"
     ]
    }
   ],
   "source": [
    "from surprise import Reader\n",
    "\n",
    "# Definir el Reader para el conjunto de datos\n",
    "reader = Reader(rating_scale=(1, 5))\n",
    "\n",
    "# Mapear los valores de 'rating' utilizando un diccionario\n",
    "rating_scale = {0.5: 1, 1.0: 1, 1.5: 2, 2.0: 2, 2.5: 3, 3.0: 3, 3.5: 4, 4.0: 4, 4.5: 5, 5.0: 5}\n",
    "\n",
    "# Aplicar el mapeo a la columna 'rating' del dataframe\n",
    "pandita['rating'] = pandita['rating'].apply(lambda x: rating_scale[x])\n",
    "\n",
    "# Imprimir los valores únicos en la columna 'rating' para verificar que se escaló correctamente\n",
    "print(pandita['rating'].unique())"
   ]
  },
  {
   "cell_type": "code",
   "execution_count": 42,
   "metadata": {},
   "outputs": [
    {
     "data": {
      "text/plain": [
       "Index(['userId', 'rating', 'movieId'], dtype='object')"
      ]
     },
     "execution_count": 42,
     "metadata": {},
     "output_type": "execute_result"
    }
   ],
   "source": [
    "pandita.columns"
   ]
  },
  {
   "cell_type": "code",
   "execution_count": 45,
   "metadata": {},
   "outputs": [
    {
     "data": {
      "text/plain": [
       "userId     0\n",
       "rating     0\n",
       "movieId    0\n",
       "dtype: int64"
      ]
     },
     "execution_count": 45,
     "metadata": {},
     "output_type": "execute_result"
    }
   ],
   "source": [
    "pandita.isnull().sum()"
   ]
  },
  {
   "cell_type": "code",
   "execution_count": 37,
   "metadata": {},
   "outputs": [],
   "source": [
    "pandita.to_csv('reviews_converted.csv', index=False)"
   ]
  },
  {
   "cell_type": "code",
   "execution_count": 47,
   "metadata": {},
   "outputs": [],
   "source": [
    "joi = pd.read_csv('reviews_converted.csv')"
   ]
  },
  {
   "cell_type": "code",
   "execution_count": 52,
   "metadata": {},
   "outputs": [
    {
     "data": {
      "text/html": [
       "<div>\n",
       "<style scoped>\n",
       "    .dataframe tbody tr th:only-of-type {\n",
       "        vertical-align: middle;\n",
       "    }\n",
       "\n",
       "    .dataframe tbody tr th {\n",
       "        vertical-align: top;\n",
       "    }\n",
       "\n",
       "    .dataframe thead th {\n",
       "        text-align: right;\n",
       "    }\n",
       "</style>\n",
       "<table border=\"1\" class=\"dataframe\">\n",
       "  <thead>\n",
       "    <tr style=\"text-align: right;\">\n",
       "      <th></th>\n",
       "      <th>userId</th>\n",
       "      <th>rating</th>\n",
       "      <th>movieId</th>\n",
       "    </tr>\n",
       "  </thead>\n",
       "  <tbody>\n",
       "    <tr>\n",
       "      <th>0</th>\n",
       "      <td>1</td>\n",
       "      <td>1</td>\n",
       "      <td>as680</td>\n",
       "    </tr>\n",
       "  </tbody>\n",
       "</table>\n",
       "</div>"
      ],
      "text/plain": [
       "   userId  rating movieId\n",
       "0       1       1   as680"
      ]
     },
     "execution_count": 52,
     "metadata": {},
     "output_type": "execute_result"
    }
   ],
   "source": [
    "joi.head(1)"
   ]
  },
  {
   "cell_type": "markdown",
   "metadata": {},
   "source": [
    "##### Ahora vamos a cargar el objeto dataset y vamos a entrenar al modelo"
   ]
  },
  {
   "cell_type": "code",
   "execution_count": 51,
   "metadata": {},
   "outputs": [
    {
     "data": {
      "text/plain": [
       "<surprise.prediction_algorithms.matrix_factorization.SVD at 0x18e69071c70>"
      ]
     },
     "execution_count": 51,
     "metadata": {},
     "output_type": "execute_result"
    }
   ],
   "source": [
    "from surprise import Reader, Dataset\n",
    "from surprise import SVD\n",
    "import numpy as np\n",
    "from scipy.sparse import csr_matrix\n",
    "\n",
    "# Definir el Reader para el conjunto de datos\n",
    "reader = Reader(line_format='user rating item', sep=',', rating_scale=(1, 5), skip_lines=1)\n",
    "\n",
    "# Cargar el conjunto de datos completo\n",
    "full_data = Dataset.load_from_file('reviews_converted.csv', reader=reader)\n",
    "\n",
    "# Definir el modelo SVD con los hiperparámetros óptimos\n",
    "model = SVD(n_factors=50, reg_all=0.1)\n",
    "\n",
    "# Entrenar el modelo con todos los datos disponibles\n",
    "trainset = full_data.build_full_trainset()\n",
    "model.fit(trainset)\n"
   ]
  },
  {
   "cell_type": "markdown",
   "metadata": {},
   "source": [
    "##### <surprise.prediction_algorithms.matrix_factorization.SVD at 0x18e69071c70> Significa que el modelo SVD fue entrenado correctamente con todos los datos disponibles y almacenado en la variable model. Ahora se puede utilizar este modelo para hacer predicciones de calificaciones de películas para usuarios.\n",
    "\n",
    "##### Una forma de hacer esto es utilizando el método predict del modelo SVD. Por ejemplo, si se quiere hacer una predicción para la calificación que el usuario 1000 le daría a la película 500, se puede hacer así:"
   ]
  },
  {
   "cell_type": "code",
   "execution_count": 53,
   "metadata": {},
   "outputs": [
    {
     "data": {
      "text/html": [
       "<div>\n",
       "<style scoped>\n",
       "    .dataframe tbody tr th:only-of-type {\n",
       "        vertical-align: middle;\n",
       "    }\n",
       "\n",
       "    .dataframe tbody tr th {\n",
       "        vertical-align: top;\n",
       "    }\n",
       "\n",
       "    .dataframe thead th {\n",
       "        text-align: right;\n",
       "    }\n",
       "</style>\n",
       "<table border=\"1\" class=\"dataframe\">\n",
       "  <thead>\n",
       "    <tr style=\"text-align: right;\">\n",
       "      <th></th>\n",
       "      <th>userId</th>\n",
       "      <th>rating</th>\n",
       "      <th>movieId</th>\n",
       "    </tr>\n",
       "  </thead>\n",
       "  <tbody>\n",
       "    <tr>\n",
       "      <th>0</th>\n",
       "      <td>251314</td>\n",
       "      <td>5</td>\n",
       "      <td>hs425</td>\n",
       "    </tr>\n",
       "    <tr>\n",
       "      <th>1</th>\n",
       "      <td>31407</td>\n",
       "      <td>5</td>\n",
       "      <td>as3335</td>\n",
       "    </tr>\n",
       "    <tr>\n",
       "      <th>2</th>\n",
       "      <td>39224</td>\n",
       "      <td>4</td>\n",
       "      <td>as6029</td>\n",
       "    </tr>\n",
       "    <tr>\n",
       "      <th>3</th>\n",
       "      <td>57048</td>\n",
       "      <td>4</td>\n",
       "      <td>as9337</td>\n",
       "    </tr>\n",
       "    <tr>\n",
       "      <th>4</th>\n",
       "      <td>72886</td>\n",
       "      <td>4</td>\n",
       "      <td>ns1</td>\n",
       "    </tr>\n",
       "  </tbody>\n",
       "</table>\n",
       "</div>"
      ],
      "text/plain": [
       "   userId  rating movieId\n",
       "0  251314       5   hs425\n",
       "1   31407       5  as3335\n",
       "2   39224       4  as6029\n",
       "3   57048       4  as9337\n",
       "4   72886       4     ns1"
      ]
     },
     "execution_count": 53,
     "metadata": {},
     "output_type": "execute_result"
    }
   ],
   "source": [
    "checa = pd.read_csv('subset_listo.csv')\n",
    "checa.head(5)"
   ]
  }
 ],
 "metadata": {
  "kernelspec": {
   "display_name": "Python 3.9.16 ('base')",
   "language": "python",
   "name": "python3"
  },
  "language_info": {
   "codemirror_mode": {
    "name": "ipython",
    "version": 3
   },
   "file_extension": ".py",
   "mimetype": "text/x-python",
   "name": "python",
   "nbconvert_exporter": "python",
   "pygments_lexer": "ipython3",
   "version": "3.9.16"
  },
  "orig_nbformat": 4,
  "vscode": {
   "interpreter": {
    "hash": "e06ff7da33dc9620448857a90ad8b5f428f0d573d205a934d2841c8aee45ea32"
   }
  }
 },
 "nbformat": 4,
 "nbformat_minor": 2
}
